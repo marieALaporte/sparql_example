{
 "cells": [
  {
   "cell_type": "markdown",
   "id": "pursuant-elephant",
   "metadata": {},
   "source": [
    "# DBPedia\n",
    "Get population of countries"
   ]
  },
  {
   "cell_type": "code",
   "execution_count": 4,
   "id": "remarkable-pathology",
   "metadata": {},
   "outputs": [
    {
     "name": "stdout",
     "output_type": "stream",
     "text": [
      "-----------------------------------------------------------------------------------\n",
      "| country     | pop                                                               |\n",
      "===================================================================================\n",
      "| dbr:France  | \"67081000\"^^<http://www.w3.org/2001/XMLSchema#nonNegativeInteger> |\n",
      "| dbr:India   | 1210854977                                                        |\n",
      "| dbr:Germany | \"83166711\"^^<http://www.w3.org/2001/XMLSchema#nonNegativeInteger> |\n",
      "| dbr:Norway  | \"5432580\"^^<http://www.w3.org/2001/XMLSchema#nonNegativeInteger>  |\n",
      "-----------------------------------------------------------------------------------\n"
     ]
    }
   ],
   "source": [
    "%%script bash\n",
    "arq  '\n",
    "PREFIX dbr: <http://dbpedia.org/resource/>\n",
    "PREFIX dbp: <http://dbpedia.org/property/>\n",
    "PREFIX dbo: <http://dbpedia.org/ontology/>\n",
    "SELECT ?country ?pop\n",
    "WHERE {\n",
    "    VALUES ?country {\n",
    "        dbr:France\n",
    "        dbr:India\n",
    "        dbr:Germany\n",
    "        dbr:Norway\n",
    "    }\n",
    "    \n",
    "    SERVICE <http://dbpedia.org/sparql> {\n",
    "        ?country dbp:populationCensus | dbo:populationTotal ?pop .\n",
    "    }\n",
    "}'"
   ]
  },
  {
   "cell_type": "markdown",
   "id": "ordered-south",
   "metadata": {},
   "source": [
    "### Contruct country population using only one property"
   ]
  },
  {
   "cell_type": "code",
   "execution_count": 5,
   "id": "ruled-guard",
   "metadata": {
    "scrolled": true
   },
   "outputs": [
    {
     "name": "stdout",
     "output_type": "stream",
     "text": [
      "@prefix dbo:   <http://dbpedia.org/ontology/> .\n",
      "@prefix dbp:   <http://dbpedia.org/property/> .\n",
      "@prefix dbr:   <http://dbpedia.org/resource/> .\n",
      "\n",
      "dbr:Germany  dbo:populationTotal  \"83166711\"^^<http://www.w3.org/2001/XMLSchema#nonNegativeInteger> .\n",
      "\n",
      "dbr:India  dbo:populationTotal  1210854977 .\n",
      "\n",
      "dbr:France  dbo:populationTotal  \"67081000\"^^<http://www.w3.org/2001/XMLSchema#nonNegativeInteger> .\n",
      "\n",
      "dbr:Norway  dbo:populationTotal  \"5432580\"^^<http://www.w3.org/2001/XMLSchema#nonNegativeInteger> .\n"
     ]
    }
   ],
   "source": [
    "%%script bash\n",
    "arq  '\n",
    "PREFIX dbr: <http://dbpedia.org/resource/>\n",
    "PREFIX dbp: <http://dbpedia.org/property/>\n",
    "PREFIX dbo: <http://dbpedia.org/ontology/>\n",
    "CONSTRUCT {\n",
    "    ?country dbo:populationTotal ?pop\n",
    "} WHERE {\n",
    "    VALUES ?country {\n",
    "        dbr:France\n",
    "        dbr:India\n",
    "        dbr:Germany\n",
    "        dbr:Norway\n",
    "    }\n",
    "    \n",
    "    SERVICE <http://dbpedia.org/sparql> {\n",
    "        ?country dbp:populationCensus | dbo:populationTotal ?pop .\n",
    "    }\n",
    "}'"
   ]
  },
  {
   "cell_type": "markdown",
   "id": "demanding-packet",
   "metadata": {},
   "source": [
    "# WIKIDATA"
   ]
  },
  {
   "cell_type": "code",
   "execution_count": 41,
   "id": "dependent-thomas",
   "metadata": {},
   "outputs": [
    {
     "name": "stdout",
     "output_type": "stream",
     "text": [
      "-------------------------------------------------------------------------\n",
      "| countryLabel | population                                             |\n",
      "=========================================================================\n",
      "| \"France\"@en  | \"66628000\"^^<http://www.w3.org/2001/XMLSchema#decimal> |\n",
      "-------------------------------------------------------------------------\n"
     ]
    },
    {
     "name": "stderr",
     "output_type": "stream",
     "text": [
      "08:34:42 WARN  ResponseProcessCookies :: Invalid cookie header: \"Set-Cookie: WMF-Last-Access=20-Apr-2021;Path=/;HttpOnly;secure;Expires=Sat, 22 May 2021 00:00:00 GMT\". Invalid 'expires' attribute: Sat, 22 May 2021 00:00:00 GMT\n",
      "08:34:42 WARN  ResponseProcessCookies :: Invalid cookie header: \"Set-Cookie: WMF-Last-Access-Global=20-Apr-2021;Path=/;Domain=.wikidata.org;HttpOnly;secure;Expires=Sat, 22 May 2021 00:00:00 GMT\". Invalid 'expires' attribute: Sat, 22 May 2021 00:00:00 GMT\n"
     ]
    }
   ],
   "source": [
    "%%script bash\n",
    "arq '\n",
    "PREFIX wdt: <http://www.wikidata.org/prop/direct/>\n",
    "PREFIX wd: <http://www.wikidata.org/entity/>\n",
    "PREFIX wikibase: <http://wikiba.se/ontology#>\n",
    "PREFIX bd: <http://www.bigdata.com/rdf#>\n",
    "PREFIX rdfs: <http://www.w3.org/2000/01/rdf-schema#> \n",
    "\n",
    "SELECT  DISTINCT ?countryLabel ?population\n",
    "WHERE\n",
    "{\n",
    "  SERVICE <https://query.wikidata.org/sparql> {\n",
    "      wd:Q142 wdt:P31/wdt:P279* wd:Q3624078 ; \n",
    "               wdt:P1082 ?population .\n",
    "        wd:Q142 rdfs:label ?countryLabel .\n",
    "      FILTER (LANG(?countryLabel) = \"en\")\n",
    "    }\n",
    "}\n",
    "ORDER BY DESC(?population)\n",
    "'"
   ]
  },
  {
   "cell_type": "markdown",
   "id": "fresh-volleyball",
   "metadata": {},
   "source": [
    "# Federated query"
   ]
  },
  {
   "cell_type": "code",
   "execution_count": 40,
   "id": "pressing-priest",
   "metadata": {},
   "outputs": [
    {
     "name": "stdout",
     "output_type": "stream",
     "text": [
      "------------------------------------------------------------------------------------\n",
      "| countryLabel | population                                                        |\n",
      "====================================================================================\n",
      "| \"France\"@en  | \"67081000\"^^<http://www.w3.org/2001/XMLSchema#nonNegativeInteger> |\n",
      "| \"France\"@en  | \"66628000\"^^<http://www.w3.org/2001/XMLSchema#decimal>            |\n",
      "------------------------------------------------------------------------------------\n"
     ]
    },
    {
     "name": "stderr",
     "output_type": "stream",
     "text": [
      "08:33:23 WARN  ResponseProcessCookies :: Invalid cookie header: \"Set-Cookie: WMF-Last-Access=20-Apr-2021;Path=/;HttpOnly;secure;Expires=Sat, 22 May 2021 00:00:00 GMT\". Invalid 'expires' attribute: Sat, 22 May 2021 00:00:00 GMT\n",
      "08:33:23 WARN  ResponseProcessCookies :: Invalid cookie header: \"Set-Cookie: WMF-Last-Access-Global=20-Apr-2021;Path=/;Domain=.wikidata.org;HttpOnly;secure;Expires=Sat, 22 May 2021 00:00:00 GMT\". Invalid 'expires' attribute: Sat, 22 May 2021 00:00:00 GMT\n"
     ]
    }
   ],
   "source": [
    "%%script bash\n",
    "arq '\n",
    "PREFIX wdt: <http://www.wikidata.org/prop/direct/>\n",
    "PREFIX wd: <http://www.wikidata.org/entity/>\n",
    "PREFIX wikibase: <http://wikiba.se/ontology#>\n",
    "PREFIX bd: <http://www.bigdata.com/rdf#>\n",
    "PREFIX rdfs: <http://www.w3.org/2000/01/rdf-schema#>\n",
    "PREFIX dbr: <http://dbpedia.org/resource/>\n",
    "PREFIX dbp: <http://dbpedia.org/property/>\n",
    "PREFIX dbo: <http://dbpedia.org/ontology/>\n",
    "\n",
    "SELECT DISTINCT ?countryLabel ?population\n",
    "WHERE\n",
    "{\n",
    "  {SERVICE <https://query.wikidata.org/sparql> {\n",
    "      wd:Q142 wdt:P31/wdt:P279* wd:Q3624078 ; \n",
    "               wdt:P1082 ?population .\n",
    "        wd:Q142 rdfs:label ?countryLabel .\n",
    "      FILTER (LANG(?countryLabel) = \"en\")\n",
    "    }\n",
    "  } UNION { \n",
    "    SERVICE <http://dbpedia.org/sparql> {\n",
    "       dbr:France  dbp:populationCensus | dbo:populationTotal ?population .\n",
    "       dbr:France rdfs:label ?countryLabel .\n",
    "      FILTER (LANG(?countryLabel) = \"en\")\n",
    "    }\n",
    "  }\n",
    "}\n",
    "ORDER BY DESC(?population)\n",
    "'"
   ]
  },
  {
   "cell_type": "markdown",
   "id": "separate-dover",
   "metadata": {},
   "source": [
    "# extract subgraph of an ontology"
   ]
  },
  {
   "cell_type": "code",
   "execution_count": 12,
   "id": "generic-anime",
   "metadata": {},
   "outputs": [
    {
     "name": "stdout",
     "output_type": "stream",
     "text": [
      "-------------------------------------------------------------------------\n",
      "| uri               | label                                             |\n",
      "=========================================================================\n",
      "| obo:AGRO_00000535 | \"ridging device mounted on planting implement\"@en |\n",
      "| obo:AGRO_00000230 | \"planting implement\"@en                           |\n",
      "| obo:AGRO_00000228 | \"transplanting implement\"@en                      |\n",
      "-------------------------------------------------------------------------\n"
     ]
    }
   ],
   "source": [
    "%%script bash\n",
    "arq --data /Users/marie-angeliquelaporte/Documents/Github/agro/src/ontology/agro.owl '\n",
    "PREFIX rdf: <http://www.w3.org/1999/02/22-rdf-syntax-ns#>  \n",
    "PREFIX rdfs: <http://www.w3.org/2000/01/rdf-schema#>  \n",
    "PREFIX owl: <http://www.w3.org/2002/07/owl#> \n",
    "PREFIX oio: <http://www.geneontology.org/formats/oboInOwl#>  \n",
    "PREFIX obo: <http://purl.obolibrary.org/obo/>  \n",
    "        \n",
    "SELECT distinct ?uri ?label\n",
    "WHERE { \n",
    "    ?uri rdfs:label ?label . FILTER CONTAINS (?label, \"planting implement\")\n",
    "}\n",
    "' "
   ]
  },
  {
   "cell_type": "markdown",
   "id": "beneficial-partnership",
   "metadata": {},
   "source": [
    "### full subgraph"
   ]
  },
  {
   "cell_type": "code",
   "execution_count": null,
   "id": "settled-brighton",
   "metadata": {},
   "outputs": [],
   "source": [
    "%%script bash\n",
    "arq --data /Users/marie-angeliquelaporte/Documents/Github/agro/src/ontology/agro.owl '\n",
    "PREFIX rdf: <http://www.w3.org/1999/02/22-rdf-syntax-ns#>  \n",
    "PREFIX rdfs: <http://www.w3.org/2000/01/rdf-schema#>  \n",
    "PREFIX owl: <http://www.w3.org/2002/07/owl#> \n",
    "PREFIX oio: <http://www.geneontology.org/formats/oboInOwl#>  \n",
    "PREFIX obo: <http://purl.obolibrary.org/obo/>  \n",
    "        \n",
    "CONSTRUCT {\n",
    "    ?s ?p ?o\n",
    "}\n",
    "WHERE { \n",
    "    obo:AGRO_00000230 (owl:|!owl:)* ?s .\n",
    "    ?s ?p ?o .\n",
    "     \n",
    "}\n",
    "' "
   ]
  },
  {
   "cell_type": "markdown",
   "id": "compact-tonight",
   "metadata": {},
   "source": [
    "### only label and definition subgraph"
   ]
  },
  {
   "cell_type": "code",
   "execution_count": 66,
   "id": "cooperative-century",
   "metadata": {},
   "outputs": [
    {
     "name": "stdout",
     "output_type": "stream",
     "text": [
      "@prefix :      <http://purl.obolibrary.org/obo/agro-edit.owl#> .\n",
      "@prefix oboInOwl: <http://www.geneontology.org/formats/oboInOwl#> .\n",
      "@prefix owl:   <http://www.w3.org/2002/07/owl#> .\n",
      "@prefix obo1:  <http://purl.obolibrary.org/obo/> .\n",
      "@prefix xsd:   <http://www.w3.org/2001/XMLSchema#> .\n",
      "@prefix swrl:  <http://www.w3.org/2003/11/swrl#> .\n",
      "@prefix swrlb: <http://www.w3.org/2003/11/swrlb#> .\n",
      "@prefix rdfs:  <http://www.w3.org/2000/01/rdf-schema#> .\n",
      "@prefix swrla: <http://swrl.stanford.edu/ontologies/3.3/swrla.owl#> .\n",
      "@prefix oio:   <http://www.geneontology.org/formats/oboInOwl#> .\n",
      "@prefix rdf:   <http://www.w3.org/1999/02/22-rdf-syntax-ns#> .\n",
      "@prefix obo:   <http://purl.obolibrary.org/obo/> .\n",
      "@prefix dc:    <http://purl.org/dc/elements/1.1/> .\n",
      "\n",
      "obo:AGRO_00000398  a  owl:Class ;\n",
      "        rdfs:comment  \"An agricultural hand tool ade of a blade set to an handle and used to shape the soil, control weeds, clear soil, and harvest root crops.\"@en ;\n",
      "        rdfs:label    \"hoe\"@en .\n",
      "\n",
      "obo:AGRO_00000402  a  owl:Class ;\n",
      "        rdfs:comment  \"Manually operated hand tool which consists of a seed hopper, cell roller for metering of seeds, spring actuated jaws for penetration in the soil, pipe and handle.\"@en ;\n",
      "        rdfs:label    \"naveen dibbler\"@en .\n",
      "\n",
      "obo:AGRO_00000407  a  owl:Class ;\n",
      "        rdfs:comment  \"Double flat and circular piece of metal used to open the soil before putting the seed into the soil.\"@en ;\n",
      "        rdfs:label    \"double disck opener planter\"@en .\n",
      "\n",
      "obo:AGRO_00000141  a  owl:Class ;\n",
      "        rdfs:comment  \"An implement that consists of a hopper, a metering unit, and a distribution device that uses centrifugal force to spread material like seeds, fertilizer granules, liming material, onto the soil surface.\"@en ;\n",
      "        rdfs:label    \"broadcast spreader\"@en .\n",
      "\n",
      "obo:AGRO_00000146  a  owl:Class ;\n",
      "        rdfs:comment  \"An implement which is used to create well-defined grooves in the soil where some material like seeds or fertilizer can be placed at a proper depth.\"@en ;\n",
      "        rdfs:label    \"furrow opener\"@en .\n",
      "\n",
      "obo:AGRO_00000396  a  owl:Class ;\n",
      "        rdfs:comment  \"A sowing device that positions seeds in the soil and then covers them. The seed drill sows the seeds at equal distances and proper depth, ensuring that the seeds get covered with soil.\"@en ;\n",
      "        rdfs:label    \"seed drill\"@en .\n",
      "\n",
      "obo:AGRO_00000400  a  owl:Class ;\n",
      "        rdfs:comment  \"A curved metal bar used to open the soil before putting the seed into the soil.\"@en ;\n",
      "        rdfs:label    \"tyne opener planter\"@en .\n",
      "\n",
      "obo:AGRO_00000405  a  owl:Class ;\n",
      "        rdfs:comment  \"Manually operated hand tool that consists of cutter head having semicircular blades connected to pipe with the help of clamp and flange. The connecting pipe is further connected to a handle.\"@en ;\n",
      "        rdfs:label    \"earth auger\"@en .\n",
      "\n",
      "obo:AGRO_00000399  a  owl:Class ;\n",
      "        rdfs:comment  \"A seed drill that consists of a seed box attached to the mainframe of a hand wheel hoe. A fluted roller assembly is provided at the bottom of the seed box. Fluted roller is rotated with the help of\\nchain and sprockets from the ground wheel.\"@en ;\n",
      "        rdfs:label    \"manual oilseed drill\"@en .\n",
      "\n",
      "obo:AGRO_00000403  a  owl:Class ;\n",
      "        rdfs:comment  \"An tool made of mild steel flat or leaf spring by forging operation. The working end is flattened and edge made sharp for easy penetration in the soil.\"@en ;\n",
      "        rdfs:label    \"hand dibbler\"@en .\n",
      "\n",
      "obo:AGRO_00000232  a  owl:Class ;\n",
      "        rdfs:comment  \"An implement that is used during a sowing process.\"@en ;\n",
      "        rdfs:label    \"sowing implement\"@en .\n",
      "\n",
      "obo:AGRO_00000397  a  owl:Class ;\n",
      "        rdfs:comment  \"A seeding implement that consists of a seed drum, main shaft, ground wheel, floats, and handle. Joining smaller ends of frustum of cones makes the seed drum.\"@en ;\n",
      "        rdfs:label    \"drum seeder\"@en .\n",
      "\n",
      "obo:AGRO_00000401  a  owl:Class ;\n",
      "        rdfs:comment  \"Manually operated device for creating a conical cavity in the soil for sowing of seeds. It consists of a wooden round stick with one end having a sheet metal cone. The other end is provided with a handgrip.\"@en ;\n",
      "        rdfs:label    \"dibbling stick\"@en .\n",
      "\n",
      "obo:AGRO_00000406  a  owl:Class ;\n",
      "        rdfs:comment  \"A flat and circular piece of metal used to open the soil before putting the seed into the soil.\"@en ;\n",
      "        rdfs:label    \"single disc opener planter\"@en .\n",
      "\n",
      "obo:AGRO_00000230  a  owl:Class ;\n",
      "        rdfs:comment  \"An implement that is used in a planting process.\"@en ;\n",
      "        rdfs:label    \"planting implement\"@en .\n",
      "\n",
      "obo:AGRO_00000404  a  owl:Class ;\n",
      "        rdfs:comment  \"Manually operated push device for dibbling of medium and bold size seeds. It consists of a rotating dibbling head with penetrating jaws, covering-cum-transport wheel, seed hopper with cell wooden roller and a handle.\"@en ;\n",
      "        rdfs:label    \"rotary dibbler\"@en .\n"
     ]
    }
   ],
   "source": [
    "%%script bash\n",
    "arq --data /Users/marie-angeliquelaporte/Documents/Github/agro/src/ontology/agro.owl '\n",
    "PREFIX rdf: <http://www.w3.org/1999/02/22-rdf-syntax-ns#>  \n",
    "PREFIX rdfs: <http://www.w3.org/2000/01/rdf-schema#>  \n",
    "PREFIX owl: <http://www.w3.org/2002/07/owl#> \n",
    "PREFIX oio: <http://www.geneontology.org/formats/oboInOwl#>  \n",
    "PREFIX obo: <http://purl.obolibrary.org/obo/>  \n",
    "        \n",
    "CONSTRUCT {\n",
    "    ?s rdfs:label ?label .\n",
    "    ?s rdfs:comment ?definition .\n",
    "    ?s rdf:type owl:Class\n",
    "}\n",
    "WHERE { \n",
    "    ?s rdfs:subClassOf* obo:AGRO_00000230 .\n",
    "    ?s rdfs:label ?label .\n",
    "    ?s obo:IAO_0000115 ?definition . \n",
    "}\n",
    "' "
   ]
  },
  {
   "cell_type": "code",
   "execution_count": null,
   "id": "virtual-ultimate",
   "metadata": {},
   "outputs": [],
   "source": []
  }
 ],
 "metadata": {
  "kernelspec": {
   "display_name": "Python 3",
   "language": "python",
   "name": "python3"
  },
  "language_info": {
   "codemirror_mode": {
    "name": "ipython",
    "version": 3
   },
   "file_extension": ".py",
   "mimetype": "text/x-python",
   "name": "python",
   "nbconvert_exporter": "python",
   "pygments_lexer": "ipython3",
   "version": "3.9.2"
  }
 },
 "nbformat": 4,
 "nbformat_minor": 5
}
